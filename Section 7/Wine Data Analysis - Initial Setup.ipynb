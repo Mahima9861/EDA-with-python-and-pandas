{
 "cells": [
  {
   "cell_type": "markdown",
   "metadata": {},
   "source": [
    "# Wine Data Analysis   \n",
    "\n",
    "Download Link : https://archive.ics.uci.edu/ml/datasets/wine+quality  \n",
    "\n",
    "Citation : P. Cortez, A. Cerdeira, F. Almeida, T. Matos and J. Reis.Modeling wine preferences by data mining from physicochemical properties. In Decision Support Systems, Elsevier, 47(4):547-553, 2009."
   ]
  },
  {
   "cell_type": "code",
   "execution_count": 1,
   "metadata": {},
   "outputs": [],
   "source": [
    "import pandas as pd\n",
    "\n",
    "red_wine_df = pd.read_csv('winequality-red.csv', delimiter=';')\n",
    "white_wine_df = pd.read_csv('winequality-white.csv', delimiter=';')"
   ]
  },
  {
   "cell_type": "code",
   "execution_count": 2,
   "metadata": {},
   "outputs": [
    {
     "data": {
      "text/plain": [
       "Index(['fixed acidity', 'volatile acidity', 'citric acid', 'residual sugar',\n",
       "       'chlorides', 'free sulfur dioxide', 'total sulfur dioxide', 'density',\n",
       "       'pH', 'sulphates', 'alcohol', 'quality'],\n",
       "      dtype='object')"
      ]
     },
     "execution_count": 2,
     "metadata": {},
     "output_type": "execute_result"
    }
   ],
   "source": [
    "red_wine_df.columns"
   ]
  },
  {
   "cell_type": "code",
   "execution_count": 3,
   "metadata": {},
   "outputs": [
    {
     "data": {
      "text/plain": [
       "Index(['fixed acidity', 'volatile acidity', 'citric acid', 'residual sugar',\n",
       "       'chlorides', 'free sulfur dioxide', 'total sulfur dioxide', 'density',\n",
       "       'pH', 'sulphates', 'alcohol', 'quality'],\n",
       "      dtype='object')"
      ]
     },
     "execution_count": 3,
     "metadata": {},
     "output_type": "execute_result"
    }
   ],
   "source": [
    "white_wine_df.columns"
   ]
  },
  {
   "cell_type": "markdown",
   "metadata": {},
   "source": [
    "## Columns Description  \n",
    "- **Fixed Acidity** : Amount of Tartaric Acid in wine, measured in g/dm<sup>3</sup>\n",
    "- **Volatile Acidity** : Amount of Acetic Acid in wine, measured in g/dm<sup>3</sup>\n",
    "- **Citric Acid** : Amount of citric acid in wine in g/dm<sup>3</sup>. Contributes to crispness of wine.\n",
    "- **Residual Sugar** : amonunt of sugar left in wine after fermentation. Measured in in g/dm<sup>3</sup>\n",
    "- **Chlorides** : amount of Sodium Cholride (salt) in wine. Measured in g/dm<sup>3</sup>\n",
    "- **Free Sulfur Dioxide** : Amount of SO<sub>2</sub> in free form. Measured in mg/dm<sup>3</sup>\n",
    "- **Total Sulfur Dioxide** : Total Amount of SO<sub>2</sub>. Too much SO<sub>2</sub> can lead to a pungent smell. SO<sub>2</sub> acts as antioxidant and antimicrobial agent.\n",
    "- **Density** : Density of Wine in g/dm<sup>3</sup>\n",
    "- **pH** : pH of Wine on a scale of 0-14 . 0 means highly Acidic, while 14 means highly basic.\n",
    "- **Sulphates** : Amount of Potassium Sulphate in wine, measured in g/dm<sup>3</sup>.Contributes to the formation of SO<sub>2</sub>.\n",
    "- **Alcohol** : alcohol content in wine (in terms of % volume)\n",
    "- **Quality** : Wine Quality graded on a scale of 1 - 10 (Higher is better)"
   ]
  },
  {
   "cell_type": "markdown",
   "metadata": {},
   "source": [
    "# Questions that we can try to answer ?  \n",
    "- Which factor or combination of factors affect the quality of Red Wine/White Wine ?\n",
    "- Do the different types of wines (red or white) have different factors affecting quality ?\n",
    "- Is there any interesting trends that exist in other columns besides Quality ?"
   ]
  },
  {
   "cell_type": "code",
   "execution_count": null,
   "metadata": {},
   "outputs": [],
   "source": []
  }
 ],
 "metadata": {
  "kernelspec": {
   "display_name": "Python 3",
   "language": "python",
   "name": "python3"
  },
  "language_info": {
   "codemirror_mode": {
    "name": "ipython",
    "version": 3
   },
   "file_extension": ".py",
   "mimetype": "text/x-python",
   "name": "python",
   "nbconvert_exporter": "python",
   "pygments_lexer": "ipython3",
   "version": "3.7.1"
  }
 },
 "nbformat": 4,
 "nbformat_minor": 2
}
